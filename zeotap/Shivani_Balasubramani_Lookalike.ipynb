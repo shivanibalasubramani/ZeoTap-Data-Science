{
 "cells": [
  {
   "cell_type": "code",
   "execution_count": 30,
   "metadata": {},
   "outputs": [],
   "source": [
    "import pandas as pd\n",
    "import numpy as np\n",
    "from sklearn.metrics.pairwise import cosine_similarity\n",
    "from sklearn.preprocessing import StandardScaler"
   ]
  },
  {
   "cell_type": "code",
   "execution_count": 52,
   "metadata": {},
   "outputs": [],
   "source": [
    "customers_df = pd.read_csv(\"/Users/shivanibalasubramani/Desktop/zeotap/Customers.csv\")\n",
    "transactions_df = pd.read_csv(\"/Users/shivanibalasubramani/Desktop/zeotap/Transactions.csv\")\n"
   ]
  },
  {
   "cell_type": "code",
   "execution_count": 53,
   "metadata": {},
   "outputs": [],
   "source": [
    "# Step 1: Create customer-level features based on transaction data\n",
    "\n",
    "# Aggregate transaction data to customer-level features\n",
    "agg_transactions = transactions_df.groupby('CustomerID').agg(\n",
    "    total_spend=('TotalValue', 'sum'),\n",
    "    num_transactions=('TransactionID', 'count'),\n",
    "    avg_purchase_value=('Price', 'mean')\n",
    ").reset_index()\n"
   ]
  },
  {
   "cell_type": "code",
   "execution_count": 54,
   "metadata": {},
   "outputs": [],
   "source": [
    "customer_data = pd.merge(customers_df, agg_transactions, on='CustomerID', how='left')\n"
   ]
  },
  {
   "cell_type": "code",
   "execution_count": 55,
   "metadata": {},
   "outputs": [],
   "source": [
    "customer_data = pd.get_dummies(customer_data, columns=['Region'], drop_first=True)"
   ]
  },
  {
   "cell_type": "code",
   "execution_count": 56,
   "metadata": {},
   "outputs": [],
   "source": [
    "scaler = StandardScaler()\n",
    "scaled_features = scaler.fit_transform(customer_data.drop(['CustomerID', 'CustomerName', 'SignupDate'], axis=1))\n"
   ]
  },
  {
   "cell_type": "code",
   "execution_count": 57,
   "metadata": {},
   "outputs": [
    {
     "name": "stdout",
     "output_type": "stream",
     "text": [
      "Missing values before handling:\n",
      "CustomerID              0\n",
      "CustomerName            0\n",
      "SignupDate              0\n",
      "total_spend             1\n",
      "num_transactions        1\n",
      "avg_purchase_value      1\n",
      "Region_Europe           0\n",
      "Region_North America    0\n",
      "Region_South America    0\n",
      "dtype: int64\n"
     ]
    }
   ],
   "source": [
    "print(\"Missing values before handling:\")\n",
    "print(customer_data.isnull().sum())"
   ]
  },
  {
   "cell_type": "code",
   "execution_count": 58,
   "metadata": {},
   "outputs": [],
   "source": [
    "customer_data = customer_data.fillna(0)"
   ]
  },
  {
   "cell_type": "code",
   "execution_count": 59,
   "metadata": {},
   "outputs": [
    {
     "name": "stdout",
     "output_type": "stream",
     "text": [
      "Missing values after handling:\n",
      "CustomerID              0\n",
      "CustomerName            0\n",
      "SignupDate              0\n",
      "total_spend             0\n",
      "num_transactions        0\n",
      "avg_purchase_value      0\n",
      "Region_Europe           0\n",
      "Region_North America    0\n",
      "Region_South America    0\n",
      "dtype: int64\n"
     ]
    }
   ],
   "source": [
    "print(\"Missing values after handling:\")\n",
    "print(customer_data.isnull().sum())"
   ]
  },
  {
   "cell_type": "code",
   "execution_count": 60,
   "metadata": {},
   "outputs": [],
   "source": [
    "scaler = StandardScaler()\n",
    "scaled_features = scaler.fit_transform(customer_data.drop(['CustomerID', 'CustomerName', 'SignupDate'], axis=1))\n"
   ]
  },
  {
   "cell_type": "code",
   "execution_count": 61,
   "metadata": {},
   "outputs": [],
   "source": [
    "cosine_sim = cosine_similarity(scaled_features)\n"
   ]
  },
  {
   "cell_type": "code",
   "execution_count": 62,
   "metadata": {},
   "outputs": [],
   "source": [
    "lookalikes = {}\n",
    "for idx, customer_id in enumerate(customer_data['CustomerID']):\n",
    "    # Skip customers that are outside the range C0001 to C0020\n",
    "    if customer_id >= 'C0021':\n",
    "        continue\n",
    "\n",
    "    # Get similarity scores for this customer with all others\n",
    "    sim_scores = cosine_sim[idx]\n",
    "    \n",
    "    # Get the indices of the top 3 similar customers (excluding the customer itself)\n",
    "    similar_indices = sim_scores.argsort()[-4:-1][::-1]\n",
    "    \n",
    "    # Get the CustomerIDs of the top 3 similar customers and their similarity scores\n",
    "    similar_customers = [(customer_data['CustomerID'][i], sim_scores[i]) for i in similar_indices]\n",
    "    \n",
    "    # Store the results in the dictionary\n",
    "    lookalikes[customer_id] = similar_customers"
   ]
  },
  {
   "cell_type": "code",
   "execution_count": 64,
   "metadata": {},
   "outputs": [],
   "source": [
    "lookalike_df = pd.DataFrame([\n",
    "    {'CustomerID': key, 'Lookalikes': str(val)} \n",
    "    for key, val in lookalikes.items()\n",
    "])"
   ]
  },
  {
   "cell_type": "code",
   "execution_count": 65,
   "metadata": {},
   "outputs": [],
   "source": [
    "lookalike_df.to_csv(\"Lookalike.csv\", index=False)"
   ]
  },
  {
   "cell_type": "code",
   "execution_count": 66,
   "metadata": {},
   "outputs": [
    {
     "name": "stdout",
     "output_type": "stream",
     "text": [
      "  CustomerID                                         Lookalikes\n",
      "0      C0001  [('C0137', 0.9966670044660734), ('C0152', 0.99...\n",
      "1      C0002  [('C0142', 0.9838592031792338), ('C0043', 0.97...\n",
      "2      C0003  [('C0025', 0.9670162100623091), ('C0112', 0.96...\n",
      "3      C0004  [('C0113', 0.9865304001624996), ('C0108', 0.97...\n",
      "4      C0005  [('C0140', 0.9817006972350526), ('C0123', 0.97...\n"
     ]
    }
   ],
   "source": [
    "print(lookalike_df.head())"
   ]
  }
 ],
 "metadata": {
  "kernelspec": {
   "display_name": "Python 3 (ipykernel)",
   "language": "python",
   "name": "python3"
  },
  "language_info": {
   "codemirror_mode": {
    "name": "ipython",
    "version": 3
   },
   "file_extension": ".py",
   "mimetype": "text/x-python",
   "name": "python",
   "nbconvert_exporter": "python",
   "pygments_lexer": "ipython3",
   "version": "3.12.1"
  }
 },
 "nbformat": 4,
 "nbformat_minor": 2
}
